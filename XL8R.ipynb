{
  "cells": [
    {
      "cell_type": "markdown",
      "metadata": {
        "id": "view-in-github",
        "colab_type": "text"
      },
      "source": [
        "<a href=\"https://colab.research.google.com/github/Private-Detective/CloudStream/blob/main/XL8R.ipynb\" target=\"_parent\"><img src=\"https://colab.research.google.com/assets/colab-badge.svg\" alt=\"Open In Colab\"/></a>"
      ]
    },
    {
      "cell_type": "markdown",
      "metadata": {
        "id": "KkLiGXcaq9rG"
      },
      "source": [
        "# <img src='https://www.libtorrent.org/img/logo-color-text.png' height='38'/>"
      ]
    },
    {
      "cell_type": "code",
      "execution_count": null,
      "metadata": {
        "cellView": "form",
        "id": "2frMSfhQm3qE"
      },
      "outputs": [],
      "source": [
        "from IPython.display import clear_output\n",
        "!pip install libtorrent\n",
        "clear_output()\n",
        "import os\n",
        "import sys\n",
        "import time\n",
        "import libtorrent as lt\n",
        "import requests\n",
        "\n",
        "save_path = os.path.join(os.getcwd(), 'drive/MyDrive/Torrents')\n",
        "torrent_file_name = os.path.join(save_path, 'downloaded_torrent.torrent')\n",
        "link = \"\"  # @param {type:\"string\"}\n",
        "\n",
        "if not os.path.exists(save_path):\n",
        "    os.makedirs(save_path)\n",
        "\n",
        "ses = lt.session()\n",
        "\n",
        "try:\n",
        "    if link.startswith(\"magnet:\"):\n",
        "        params = lt.parse_magnet_uri(link)\n",
        "        params.save_path = save_path\n",
        "        handle = ses.add_torrent(params)\n",
        "    elif link.startswith(\"http://\") or link.startswith(\"https://\"):\n",
        "        response = requests.get(link, stream=True)\n",
        "        if response.status_code == 200:\n",
        "            with open(torrent_file_name, 'wb') as f:\n",
        "                for chunk in response.iter_content(chunk_size=1024):\n",
        "                    if chunk:\n",
        "                        f.write(chunk)\n",
        "        else:\n",
        "            raise ValueError(\"Failed to download file using requests. Status code: {}\".format(response.status_code))\n",
        "\n",
        "        torrent_info = lt.torrent_info(torrent_file_name)\n",
        "        params = lt.add_torrent_params()\n",
        "        params.ti = torrent_info\n",
        "        params.save_path = save_path\n",
        "        handle = ses.add_torrent(params)\n",
        "    else:\n",
        "        raise ValueError(\"Provided link is neither a magnet link nor a valid HTTP link.\")\n",
        "\n",
        "    start_time = time.time()\n",
        "\n",
        "    while True:\n",
        "        try:\n",
        "            elapsed_time = time.time() - start_time\n",
        "            status = handle.status()\n",
        "            total_wanted_done = status.total_wanted_done\n",
        "\n",
        "            download_speed = 0\n",
        "            remaining_time_str = \"Unknown\"\n",
        "\n",
        "            if total_wanted_done > 0:\n",
        "                download_speed = (total_wanted_done / elapsed_time) / (1024 * 1024)\n",
        "                remaining_time = (status.total_wanted - total_wanted_done) / download_speed\n",
        "                remaining_time_str = time.strftime(\"%H:%M:%S\", time.gmtime(remaining_time))\n",
        "\n",
        "            print(f\"\\r{status.name[:18]}.. : {total_wanted_done / (1024 * 1024):.2f}MB \"\n",
        "                  f\"[{elapsed_time:.0f} seconds, {download_speed:.2f}MB/s] \"\n",
        "                  f\"Remaining time: {remaining_time_str} ({status.progress * 100:.2f}%)\", end=' ')\n",
        "            sys.stdout.flush()\n",
        "\n",
        "            time.sleep(1)\n",
        "        except KeyboardInterrupt:\n",
        "            print(\"\\nProcess stopped by user.\")\n",
        "            break\n",
        "\n",
        "    ses.pause()\n",
        "    partially_downloaded_file = os.path.join(save_path, handle.status().name)\n",
        "\n",
        "except Exception as e:\n",
        "    print(f\"Error: {e}\")"
      ]
    },
    {
      "cell_type": "markdown",
      "metadata": {
        "id": "-2RPeA23KGmq"
      },
      "source": [
        "# <img src='https://storage.googleapis.com/pr-newsroom-wp/1/2018/11/Spotify_Logo_RGB_Green.png' height=\"39\"/>"
      ]
    },
    {
      "cell_type": "code",
      "execution_count": null,
      "metadata": {
        "cellView": "form",
        "id": "Z9KUjpzxruZp"
      },
      "outputs": [],
      "source": [
        "\n",
        "from IPython.display import clear_output\n",
        "\n",
        "# Check if spotdl is installed\n",
        "SPOTDL = !(command -v \"spotdl\")\n",
        "if not SPOTDL:\n",
        "    !pip install spotdl\n",
        "    clear_output()\n",
        "\n",
        "# Add search query option\n",
        "search_query = \"\"  # @param {type:\"string\"}\n",
        "link = \"\"  # @param {type:\"string\"}\n",
        "output = \"/content/{title} - {artists}\"  # kept the original output format\n",
        "\n",
        "options = [\n",
        "    \"--format mp3\",\n",
        "    \"--bitrate 128k\",  # 128k as default bitrate\n",
        "    \"--lyrics musixmatch\",  # Musixmatch as default lyrics provider\n",
        "    \"--sponsor-block\",\n",
        "    \"--generate-lrc\",\n",
        "    \"--print-errors\",\n",
        "    f\"--output \\\"{output}\\\"\"\n",
        "]\n",
        "\n",
        "# Add link to spotdl command if provided\n",
        "if link:\n",
        "    !spotdl download {link} {\" \".join(options)}\n",
        "else:\n",
        "    !spotdl download \"{search_query}\" {\" \".join(options)}\n",
        "\n",
        "try:\n",
        "    # No need for eval or exec, just execute the command directly\n",
        "    pass\n",
        "except FileNotFoundError:\n",
        "    print(f\"Error: spotdl command not found. Please install spotdl.\")\n",
        "except Exception as e:\n",
        "    print(f\"Error: {e}\")\n",
        "\n",
        "# Add a success message\n",
        "print(\"Download complete!\")"
      ]
    },
    {
      "cell_type": "markdown",
      "metadata": {
        "id": "C1lr3oxGYW2l"
      },
      "source": [
        "# <img src='https://upload.wikimedia.org/wikipedia/commons/5/5f/FFmpeg_Logo_new.svg' height=\"34\"/>"
      ]
    },
    {
      "cell_type": "markdown",
      "metadata": {
        "id": "cboxh1bcpX_l"
      },
      "source": [
        "### *Encoder*"
      ]
    },
    {
      "cell_type": "code",
      "execution_count": null,
      "metadata": {
        "cellView": "form",
        "colab": {
          "background_save": true
        },
        "id": "G1T-bd_LTF6o"
      },
      "outputs": [],
      "source": [
        "#@title <h4> *Normal Encoder*\n",
        "\n",
        "import subprocess\n",
        "\n",
        "input_file = \"\" #@param {type:\"string\"}\n",
        "output_file = \"\" #@param {type:\"string\"}\n",
        "arguments = \"\" #@param {type:\"string\"}\n",
        "ffpb = \"/content/drive/MyDrive/ffpb.py\"\n",
        "!chmod 755 {ffpb}\n",
        "\n",
        "while True:\n",
        "    !\"{ffpb}\" -y -i \"{input_file}\" {arguments} \"{output_file}\"\n",
        "    break"
      ]
    },
    {
      "cell_type": "code",
      "execution_count": null,
      "metadata": {
        "cellView": "form",
        "colab": {
          "background_save": true
        },
        "id": "GOnKdFF6ubqk"
      },
      "outputs": [],
      "source": [
        "#@title <h4> *H265 Encoder*\n",
        "import subprocess\n",
        "import sys\n",
        "import os\n",
        "\n",
        "input_dir = \"/content/drive/MyDrive/DriveFire/Segments\" #@param {type:\"string\"}\n",
        "ffpb = \"/content/drive/MyDrive/ffpb.py\"\n",
        "output_dir = \"/content/drive/MyDrive/DriveFire/Vids/\" #@param {type:\"string\"}\n",
        "\n",
        "subprocess.check_output(['chmod', '755', ffpb])\n",
        "\n",
        "for input_file in os.listdir(input_dir):\n",
        "    input_file_path = os.path.join(input_dir, input_file)\n",
        "\n",
        "    width = subprocess.check_output(['ffprobe', '-v', 'error', '-select_streams', 'v:0', '-show_entries', 'stream=width', '-of', 'csv=p=0', input_file_path]).decode('utf-8').strip()\n",
        "    height = subprocess.check_output(['ffprobe', '-v', 'error', '-select_streams', 'v:0', '-show_entries', 'stream=height', '-of', 'csv=p=0', input_file_path]).decode('utf-8').strip()\n",
        "\n",
        "    print(f\"Processing video: {input_file}...\")\n",
        "\n",
        "    if int(width) == 1280 and int(height) < 600:\n",
        "        size = \"-s 1280:538\"\n",
        "    elif int(width) == 960 and int(height) < 500:\n",
        "        size = \"-s 960:458\"\n",
        "    elif int(width) == 854 and int(height) < 400:\n",
        "        size = \"-s 854:356\"\n",
        "    else:\n",
        "        size = \"\"\n",
        "\n",
        "    command = f\"{ffpb} -n -i {input_file_path} -c:v libx265 {size} -c:a copy -c:s copy {output_dir}{input_file}\"\n",
        "    !{command}"
      ]
    },
    {
      "cell_type": "markdown",
      "metadata": {
        "id": "Yvnygfq563qQ"
      },
      "source": [
        "### *Subtitle Encoder*"
      ]
    },
    {
      "cell_type": "code",
      "execution_count": null,
      "metadata": {
        "cellView": "form",
        "id": "V2FH-GHs5tu7"
      },
      "outputs": [],
      "source": [
        "input1 = \"\" #@param {type:\"string\"}\n",
        "input2 = \"\" #@param {type:\"string\"}\n",
        "filename = \"\" #@param {type:\"string\"}\n",
        "!ffmpeg -loglevel error -i \"$input1\" -i \"$input2\" -c copy -map_metadata -1 -map_chapters -1 drive/MyDrive/\"$filename\".mkv"
      ]
    },
    {
      "cell_type": "markdown",
      "metadata": {
        "id": "PpLiS-CG4kmF"
      },
      "source": [
        "### *Video Splitter Tool*"
      ]
    },
    {
      "cell_type": "code",
      "execution_count": null,
      "metadata": {
        "cellView": "form",
        "id": "TmiS0PJzGEC0"
      },
      "outputs": [],
      "source": [
        "input_file = \"/content/drive/MyDrive/Top.Gun.Maverick.2022.IMAX.720p.BluRay.900MB.x264-GalaxyRG.mkv\" #@param {type:\"string\"}\n",
        "segment_time = \"00:15:00\" #@param {type:\"string\"}\n",
        "output_dir = \"drive/MyDrive/DriveFire/Segments\"\n",
        "\n",
        "import os\n",
        "import subprocess\n",
        "\n",
        "if os.path.isfile(input_file):\n",
        "    os.makedirs(output_dir, exist_ok=True)\n",
        "    try:\n",
        "        subprocess.run([\n",
        "            \"ffmpeg\", \"-y\", \"-i\", input_file,\n",
        "            \"-segment_time\", segment_time,\n",
        "            \"-f\", \"segment\", \"-c\", \"copy\",\n",
        "            \"-map_chapters\", \"-1\", \"-map_metadata\", \"-1\",\n",
        "            f\"{output_dir}/file%02d.mkv\"\n",
        "        ], check=True)\n",
        "        print(f\"Output directory contents:\")\n",
        "        !ls {output_dir}\n",
        "    except subprocess.CalledProcessError as e:\n",
        "        print(f\"FFmpeg command failed with return code {e.returncode}.\")\n",
        "    except Exception as e:\n",
        "        print(f\"An error occurred: {e}\")\n",
        "else:\n",
        "    print(\"Input file does not exist.\")"
      ]
    },
    {
      "cell_type": "code",
      "execution_count": null,
      "metadata": {
        "id": "dkFNJnY8qP-M"
      },
      "outputs": [],
      "source": [
        "!printf \"file '%s'\\n\" drive/MyDrive/DriveFire/Vids/*.mkv | sort -V > list.txt"
      ]
    },
    {
      "cell_type": "code",
      "execution_count": null,
      "metadata": {
        "id": "lEP6ZiG6HvFx"
      },
      "outputs": [],
      "source": [
        "!ffmpeg -loglevel error -f concat -safe 0 -i list.txt -c copy -map 0 -map_metadata -1 -map_chapters -1 \"drive/MyDrive/Nightcrawler.mkv\""
      ]
    },
    {
      "cell_type": "code",
      "execution_count": null,
      "metadata": {
        "id": "xkupH9RPrgCz"
      },
      "outputs": [],
      "source": [
        "!cat list.txt"
      ]
    },
    {
      "cell_type": "markdown",
      "metadata": {
        "id": "OnwuZiWd5CzT"
      },
      "source": [
        "### *Multi-Image Generator*"
      ]
    },
    {
      "cell_type": "code",
      "execution_count": null,
      "metadata": {
        "cellView": "form",
        "id": "J-cw25RM2JgF"
      },
      "outputs": [],
      "source": [
        "input_file = \"\" #@param {type:\"string\"}\n",
        "seek_time = \"\" #@param {type:\"string\"}\n",
        "num_of_frames = 10 #@param {type:\"integer\", default: 10}\n",
        "increment = 1 #@param {type:\"integer\", default: 1}\n",
        "\n",
        "import os\n",
        "import glob\n",
        "from IPython.display import Image, display, Markdown\n",
        "import datetime\n",
        "\n",
        "for filename in glob.glob('*.jpg'):\n",
        "    os.remove(filename)\n",
        "\n",
        "if ':' in seek_time:\n",
        "    seek_time_dt = datetime.datetime.strptime(seek_time, \"%H:%M:%S\")\n",
        "else:\n",
        "    seek_time_dt = datetime.datetime(1900, 1, 1) + datetime.timedelta(seconds=int(seek_time))\n",
        "\n",
        "for i in range(num_of_frames):\n",
        "    timestamp_dt = seek_time_dt + datetime.timedelta(seconds=i*increment)\n",
        "    timestamp = timestamp_dt.strftime(\"%H:%M:%S\")\n",
        "    command = f\"ffmpeg -y -loglevel error -ss {timestamp} -i \\\"{input_file}\\\" -frames:v 1 /content/{timestamp}.jpg\"\n",
        "    os.system(command)\n",
        "\n",
        "for filename in sorted(glob.glob('*.jpg'), key=lambda x: int(x[:-4].replace(':', ''))):\n",
        "    display(Image(filename))\n",
        "    display(Markdown(f\"***{filename[:-4]}***\"))\n",
        "\n",
        "for filename in glob.glob('*.jpg'):\n",
        "    os.remove(filename)"
      ]
    },
    {
      "cell_type": "code",
      "source": [
        "import os\n",
        "\n",
        "text = \"\"  #@param{type:\"string\"}\n",
        "erase = False  #@param{type:\"boolean\"}\n",
        "stack_file = \"drive/MyDrive/stack.txt\"\n",
        "\n",
        "def load_stack():\n",
        "    if os.path.exists(stack_file):\n",
        "        with open(stack_file, 'r') as f:\n",
        "            return [line.strip() for line in f]\n",
        "    return []\n",
        "\n",
        "def save_stack(stack):\n",
        "    with open(stack_file, 'w') as f:\n",
        "        f.writelines(f\"{item}\\n\" for item in stack)\n",
        "\n",
        "stack = load_stack()\n",
        "\n",
        "if erase:\n",
        "    stack.clear()\n",
        "else:\n",
        "    if text:\n",
        "        stack.append(text)\n",
        "\n",
        "save_stack(stack)\n",
        "\n",
        "for item in stack:\n",
        "    print(item)"
      ],
      "metadata": {
        "cellView": "form",
        "id": "-2VOCcaHYJhv"
      },
      "execution_count": null,
      "outputs": []
    },
    {
      "cell_type": "markdown",
      "metadata": {
        "id": "CEQD3XSi6LVN"
      },
      "source": [
        "### *Image Generator*"
      ]
    },
    {
      "cell_type": "code",
      "source": [
        "import os\n",
        "import re\n",
        "import subprocess\n",
        "from IPython.display import Image, display, Markdown\n",
        "\n",
        "input_file = \"\" #@param{type:\"string\"}\n",
        "seek_normal = \"\" #@param{type:\"string\"}\n",
        "filter = \"\" #@param{type:\"string\"}\n",
        "first_frame = False #@param{type:\"boolean\"}\n",
        "last_frame = False #@param{type:\"boolean\"}\n",
        "\n",
        "def get_video_duration(input_file):\n",
        "    return int(float(subprocess.check_output(\n",
        "        [\"ffprobe\", \"-v\", \"error\", \"-show_entries\", \"format=duration\", \"-of\", \"default=noprint_wrappers=1:nokey=1\", input_file]\n",
        "    ).strip()))\n",
        "\n",
        "def convert_to_seconds(time_str):\n",
        "    if re.match(r'^\\d{1,2}:\\d{2}:\\d{2}$', time_str):\n",
        "        h, m, s = map(float, time_str.split(':'))\n",
        "        return h * 3600 + m * 60 + s\n",
        "    return float(time_str)\n",
        "\n",
        "def extract_frame(input_file, output_file, ss=None, filter=None, label=None):\n",
        "    command = []\n",
        "    if ss:\n",
        "        command.append(f\"-ss {ss}\")\n",
        "    command.append(f\"-i {input_file}\")\n",
        "    if filter:\n",
        "        command.append(f\"-vf \\\"{filter}\\\"\")\n",
        "    command.append(\"-vframes 1\")\n",
        "    command.append(output_file)\n",
        "\n",
        "    command_str = \" \".join(command)\n",
        "    !ffmpeg -loglevel error -y {command_str}\n",
        "\n",
        "    if os.path.exists(output_file) and label:\n",
        "        with open(output_file, \"rb\") as f:\n",
        "            display(Image(data=f.read(), format=\"jpg\"))\n",
        "            display(Markdown(label))\n",
        "\n",
        "def extract_last_frame(input_file, duration):\n",
        "    output_file = \"last.jpg\"\n",
        "    extract_frame(input_file, output_file, duration, label=f\"***{duration // 3600:02}:{(duration % 3600) // 60:02}:{duration % 60:02}*** &nbsp;-&nbsp; *Last Frame*\")\n",
        "    for ts in range(duration - 1, -1, -1):\n",
        "        if os.path.exists(output_file):\n",
        "            break\n",
        "        extract_frame(input_file, output_file, ts, label=f\"***{ts // 3600:02}:{(ts % 3600) // 60:02}:{ts % 60:02}*** &nbsp;-&nbsp; *Last Frame*\")\n",
        "\n",
        "if os.path.exists(input_file):\n",
        "    if first_frame:\n",
        "        extract_frame(input_file, \"first.jpg\", label=\"***00:00:00*** &nbsp;-&nbsp; *First Frame*\")\n",
        "    if last_frame:\n",
        "        duration = get_video_duration(input_file)\n",
        "        extract_last_frame(input_file, duration)\n",
        "    if seek_normal:\n",
        "        seek_time_in_seconds = convert_to_seconds(seek_normal)\n",
        "        extract_frame(input_file, \"normal.jpg\", seek_time_in_seconds, filter=filter if filter else None, label=f\"***{seek_normal}*** &nbsp;-&nbsp; *Normal Frame*\")\n",
        "\n",
        "!rm -rf *.jpg"
      ],
      "metadata": {
        "cellView": "form",
        "id": "kI-gRya7BeZE"
      },
      "execution_count": null,
      "outputs": []
    },
    {
      "cell_type": "markdown",
      "metadata": {
        "id": "bCMGvOSOK7q0"
      },
      "source": [
        "### *Trimmer*"
      ]
    },
    {
      "cell_type": "code",
      "execution_count": null,
      "metadata": {
        "cellView": "form",
        "id": "t84IbYis7i09"
      },
      "outputs": [],
      "source": [
        "input_file = \"\" #@param {type:\"string\"}\n",
        "output_file = \"1trim\" #@param {type:\"string\"}\n",
        "start_time = \"00:50:04\" #@param {type:\"string\"}\n",
        "end_time = \"01:03:14\" #@param {type:\"string\"}\n",
        "re_encode = False #@param {type:\"boolean\"}\n",
        "\n",
        "from datetime import datetime, timedelta\n",
        "\n",
        "def parse_time(time):\n",
        "    if time.isdigit():\n",
        "        return timedelta(seconds=int(time))\n",
        "    else:\n",
        "        return datetime.strptime(time, \"%H:%M:%S\") - datetime.strptime(\"00:00:00\", \"%H:%M:%S\")\n",
        "\n",
        "start_delta = parse_time(start_time)\n",
        "end_delta = parse_time(end_time)\n",
        "\n",
        "duration = end_delta - start_delta\n",
        "\n",
        "if start_delta:\n",
        "    start_cmd = \"-ss \" + str(start_delta)\n",
        "else:\n",
        "    start_cmd = \"\"\n",
        "\n",
        "if end_delta:\n",
        "    if not re_encode:\n",
        "        end_cmd = \"-t \" + str(duration)\n",
        "    else:\n",
        "        end_cmd = \"-to \" + str(end_delta)\n",
        "else:\n",
        "    end_cmd = \"\"\n",
        "\n",
        "if not re_encode:\n",
        "    !ffmpeg -y -loglevel error -i \"$input_file\" {start_cmd} {end_cmd} -avoid_negative_ts 1 -reset_timestamps 1 -map 0 -c copy \"$output_file\".mkv\n",
        "else:\n",
        "    !ffmpeg -y -loglevel error -i \"$input_file\" {start_cmd} {end_cmd} -crf 0 -c:a copy \"$output_file\".mkv"
      ]
    },
    {
      "cell_type": "markdown",
      "metadata": {
        "id": "xD6WgB-UStks"
      },
      "source": [
        "### *MediaInfo*"
      ]
    },
    {
      "cell_type": "code",
      "execution_count": null,
      "metadata": {
        "cellView": "form",
        "id": "NvPveBEhYys3"
      },
      "outputs": [],
      "source": [
        "import subprocess\n",
        "import json\n",
        "import os\n",
        "\n",
        "input_file = \"/content/drive/MyDrive/Nightcrawler.mkv\" #@param {type:\"string\"}\n",
        "\n",
        "if not input_file:\n",
        "    print(\"Error: No input file provided.\")\n",
        "else:\n",
        "    if not os.path.exists(input_file):\n",
        "        print(\"Error: Input file does not exist.\")\n",
        "    else:\n",
        "        file_size_mb = os.path.getsize(input_file) / (1024 * 1024)\n",
        "        print(f\"File size: {file_size_mb / 1024 if file_size_mb > 1024 else file_size_mb:.2f} {'GB' if file_size_mb > 1024 else 'MB'}\")\n",
        "\n",
        "        try:\n",
        "            ffprobe_output = subprocess.check_output(f\"ffprobe -v error -show_streams -show_format -print_format json \\\"{input_file}\\\"\", shell=True).decode(\"utf-8\")\n",
        "            media_info = json.loads(ffprobe_output)\n",
        "\n",
        "            print(\"Media Information:\")\n",
        "            for stream in media_info['streams']:\n",
        "                print(f\"  {stream['codec_type'].capitalize()}:\")\n",
        "                print(f\"    Codec: {stream['codec_name']}\")\n",
        "                if stream['codec_type'] == 'video':\n",
        "                    print(f\"    Resolution: {stream['width']}x{stream['height']}\")\n",
        "                elif stream['codec_type'] == 'audio':\n",
        "                    print(f\"    Channels: {stream['channel_layout']}\")\n",
        "\n",
        "            duration_output = subprocess.check_output(f\"ffprobe -v error -show_entries format=duration -sexagesimal -of default=noprint_wrappers=1:nokey=1 -i \\\"{input_file}\\\"\", shell=True).decode(\"utf-8\").strip()\n",
        "            print(f\"Duration: {duration_output}\")\n",
        "\n",
        "        except subprocess.CalledProcessError:\n",
        "            print(\"Error: Unable to get media information using ffprobe.\")"
      ]
    },
    {
      "cell_type": "code",
      "execution_count": null,
      "metadata": {
        "id": "tRf4LmuZp0X_"
      },
      "outputs": [],
      "source": [
        "!ffmpeg -loglevel error -i \"$input_file\" -vf cropdetect -f null - 2>&1 | awk '/crop/{print $NF}'| tail -n1"
      ]
    },
    {
      "cell_type": "markdown",
      "metadata": {
        "id": "xKE9wsIUY7dr"
      },
      "source": [
        "# <img src='https://biplobsd.github.io/RLabClone/img/title_youtube-dl.png' height=\"38\"/>"
      ]
    },
    {
      "cell_type": "code",
      "execution_count": null,
      "metadata": {
        "cellView": "form",
        "id": "Ds7MuNL3VdZ3"
      },
      "outputs": [],
      "source": [
        "YTDL = !(command -v \"yt-dlp\")\n",
        "if not YTDL:\n",
        "    !curl -s -L https://github.com/yt-dlp/yt-dlp/releases/latest/download/yt-dlp -o /usr/local/bin/yt-dlp\n",
        "    !chmod a+rx /usr/local/bin/yt-dlp\n",
        "\n",
        "URL = \"https://youtu.be/UveyUexjxFs?si=EprksKtUbyWu_X66\"  #@param {type:\"string\"}\n",
        "quality = ''  #@param [\"bv[ext=mp4]+ba[ext=m4a]\", \"0\", \"\"] {allow-input: true}\n",
        "output = \"%(title)s.%(ext)s\"  #@param [\"%(title)s.%(ext)s\"] {allow-input: true}\n",
        "\n",
        "if quality:\n",
        "    !yt-dlp --no-warnings -q --progress -f {quality} -o \"$output\" \"$URL\"\n",
        "else:\n",
        "    !yt-dlp --no-warnings -q --progress -F -o \"$output\" \"$URL\""
      ]
    },
    {
      "cell_type": "markdown",
      "metadata": {
        "id": "QoCSX08PW8xY"
      },
      "source": [
        "# <font size=5> ✦ *Colab Still Alive*"
      ]
    },
    {
      "cell_type": "code",
      "execution_count": null,
      "metadata": {
        "id": "GsNc8I5FXfio"
      },
      "outputs": [],
      "source": [
        "some_str = ' ' * 5120000000000"
      ]
    },
    {
      "cell_type": "code",
      "execution_count": null,
      "metadata": {
        "id": "-bqlK1H_D-Kp"
      },
      "outputs": [],
      "source": [
        "from google.colab import runtime\n",
        "runtime.unassign()"
      ]
    },
    {
      "cell_type": "code",
      "execution_count": null,
      "metadata": {
        "id": "bgmwVQPiXGmz"
      },
      "outputs": [],
      "source": [
        "import IPython\n",
        "from IPython.display import clear_output\n",
        "from google.colab import output\n",
        "\n",
        "display(IPython.display.Javascript('''\n",
        " function ClickConnect(){\n",
        "   btn = document.querySelector(\"colab-connect-button\")\n",
        "   if (btn != null){\n",
        "     console.log(\"Clicked on the connect button\");\n",
        "     btn.click()\n",
        "     }\n",
        "\n",
        "   btn = document.getElementById('connect')\n",
        "   if (btn != null){\n",
        "     console.log(\"Clicked on the reconnect button\");\n",
        "     btn.click()\n",
        "     }\n",
        "  }\n",
        "\n",
        "setInterval(ClickConnect,60000)\n",
        "'''))\n",
        "\n",
        "clear_output()"
      ]
    },
    {
      "cell_type": "markdown",
      "metadata": {
        "id": "EzrcrV9T3mGe"
      },
      "source": [
        "# <font size=6> Scratchpad"
      ]
    },
    {
      "cell_type": "code",
      "execution_count": null,
      "metadata": {
        "cellView": "form",
        "id": "s0eZXNwRmzTO"
      },
      "outputs": [],
      "source": [
        "#@markdown <font size=4>***Downloader***\n",
        "import ipywidgets as widgets\n",
        "from IPython.display import display\n",
        "from google.colab import files\n",
        "import os\n",
        "\n",
        "file = \"\"  # @param{type:\"string\"}\n",
        "\n",
        "if file and os.path.isfile(file):\n",
        "    files.download(file)\n",
        "else:\n",
        "    def list_files(path):\n",
        "        return [item for item in os.listdir(path) if not item.startswith('.')]\n",
        "\n",
        "    current_path = '/content/'\n",
        "    history = []\n",
        "\n",
        "    item_dropdown = widgets.Dropdown(\n",
        "        options=list_files(current_path),\n",
        "        description=\"Select file:\",\n",
        "        layout=widgets.Layout(width='260px')\n",
        "    )\n",
        "\n",
        "    action_button = widgets.Button(description=\"Select\", layout=widgets.Layout(width='125px', height='25px'))\n",
        "    back_button = widgets.Button(description=\"Back\", layout=widgets.Layout(width='125px', height='25px'))\n",
        "\n",
        "    def handle_selection(b):\n",
        "        global current_path  # Declare current_path as global\n",
        "        selected_item = item_dropdown.value\n",
        "        full_path = os.path.join(current_path, selected_item)\n",
        "        if os.path.isdir(full_path):\n",
        "            history.append(current_path)\n",
        "            current_path = full_path\n",
        "            item_dropdown.options = list_files(current_path)\n",
        "            item_dropdown.value = None\n",
        "        elif os.path.isfile(full_path):\n",
        "            files.download(full_path)\n",
        "\n",
        "    def handle_back(b):\n",
        "        global current_path  # Declare current_path as global\n",
        "        if history:\n",
        "            current_path = history.pop()\n",
        "            item_dropdown.options = list_files(current_path)\n",
        "            item_dropdown.value = None\n",
        "\n",
        "    action_button.on_click(handle_selection)\n",
        "    back_button.on_click(handle_back)\n",
        "\n",
        "    display(item_dropdown, action_button, back_button)"
      ]
    },
    {
      "cell_type": "code",
      "execution_count": null,
      "metadata": {
        "cellView": "form",
        "id": "gQvweStDoo9w"
      },
      "outputs": [],
      "source": [
        "#@markdown <font size=4>***Demucs***\n",
        "from IPython.display import clear_output\n",
        "input = \"\" #@param{type:\"string\"}\n",
        "DEMUCS=!(command -v \"demucs\")\n",
        "if not DEMUCS:\n",
        "  !python3 -m pip install -U demucs\n",
        "  clear_output()\n",
        "!demucs \"$input\""
      ]
    }
  ],
  "metadata": {
    "colab": {
      "collapsed_sections": [
        "KkLiGXcaq9rG",
        "-2RPeA23KGmq",
        "cboxh1bcpX_l",
        "Yvnygfq563qQ",
        "PpLiS-CG4kmF",
        "CEQD3XSi6LVN",
        "bCMGvOSOK7q0",
        "xD6WgB-UStks",
        "xKE9wsIUY7dr",
        "QoCSX08PW8xY",
        "EzrcrV9T3mGe"
      ],
      "provenance": [],
      "mount_file_id": "15g-8YCUlrmjxO0D55N88MFtpgKGVL_MV",
      "authorship_tag": "ABX9TyO249q2wG6EsjQL9JCO0+qa",
      "include_colab_link": true
    },
    "kernelspec": {
      "display_name": "Python 3",
      "name": "python3"
    },
    "language_info": {
      "name": "python"
    }
  },
  "nbformat": 4,
  "nbformat_minor": 0
}