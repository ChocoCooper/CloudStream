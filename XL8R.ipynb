{
  "cells": [
    {
      "cell_type": "markdown",
      "metadata": {
        "id": "view-in-github",
        "colab_type": "text"
      },
      "source": [
        "<a href=\"https://colab.research.google.com/github/Private-Detective/CloudStream/blob/main/XL8R.ipynb\" target=\"_parent\"><img src=\"https://colab.research.google.com/assets/colab-badge.svg\" alt=\"Open In Colab\"/></a>"
      ]
    },
    {
      "cell_type": "markdown",
      "metadata": {
        "id": "-2RPeA23KGmq"
      },
      "source": [
        "# <img src='https://storage.googleapis.com/pr-newsroom-wp/1/2018/11/Spotify_Logo_RGB_Green.png' height=\"39\"/>"
      ]
    },
    {
      "cell_type": "code",
      "execution_count": null,
      "metadata": {
        "cellView": "form",
        "id": "Z9KUjpzxruZp"
      },
      "outputs": [],
      "source": [
        "\n",
        "from IPython.display import clear_output\n",
        "\n",
        "# Check if spotdl is installed\n",
        "SPOTDL = !(command -v \"spotdl\")\n",
        "if not SPOTDL:\n",
        "    !pip install spotdl\n",
        "    clear_output()\n",
        "\n",
        "# Add search query option\n",
        "search_query = \"\"  # @param {type:\"string\"}\n",
        "link = \"\"  # @param {type:\"string\"}\n",
        "output = \"/content/{title} - {artists}\"  # kept the original output format\n",
        "\n",
        "options = [\n",
        "    \"--format mp3\",\n",
        "    \"--bitrate 128k\",  # 128k as default bitrate\n",
        "    \"--lyrics musixmatch\",  # Musixmatch as default lyrics provider\n",
        "    \"--sponsor-block\",\n",
        "    \"--generate-lrc\",\n",
        "    \"--print-errors\",\n",
        "    f\"--output \\\"{output}\\\"\"\n",
        "]\n",
        "\n",
        "# Add link to spotdl command if provided\n",
        "if link:\n",
        "    !spotdl download {link} {\" \".join(options)}\n",
        "else:\n",
        "    !spotdl download \"{search_query}\" {\" \".join(options)}\n",
        "\n",
        "try:\n",
        "    # No need for eval or exec, just execute the command directly\n",
        "    pass\n",
        "except FileNotFoundError:\n",
        "    print(f\"Error: spotdl command not found. Please install spotdl.\")\n",
        "except Exception as e:\n",
        "    print(f\"Error: {e}\")\n",
        "\n",
        "# Add a success message\n",
        "print(\"Download complete!\")"
      ]
    },
    {
      "cell_type": "markdown",
      "metadata": {
        "id": "C1lr3oxGYW2l"
      },
      "source": [
        "# <img src='https://upload.wikimedia.org/wikipedia/commons/5/5f/FFmpeg_Logo_new.svg' height=\"34\"/>"
      ]
    },
    {
      "cell_type": "markdown",
      "metadata": {
        "id": "cboxh1bcpX_l"
      },
      "source": [
        "### *Encoder with loop*"
      ]
    },
    {
      "cell_type": "code",
      "execution_count": null,
      "metadata": {
        "colab": {
          "background_save": true
        },
        "id": "WogR0p8xxnv1"
      },
      "outputs": [],
      "source": [
        "import os\n",
        "import time\n",
        "\n",
        "input_file = \"\" #@param {type:\"string\"}\n",
        "output_file = \"\" #@param {type:\"string\"}\n",
        "arguments = \"\" #@param {type:\"string\"}\n",
        "\n",
        "while True:\n",
        "    try:\n",
        "        os.system(f\"ffmpeg -y -i {input_file} {arguments} {output_file}\")\n",
        "        break\n",
        "    except Exception as e:\n",
        "        print(f\"An error occurred: {e}\")\n",
        "        time.sleep(1)"
      ]
    },
    {
      "cell_type": "markdown",
      "metadata": {
        "id": "Yvnygfq563qQ"
      },
      "source": [
        "### *Subtitle Encoder*"
      ]
    },
    {
      "cell_type": "code",
      "execution_count": null,
      "metadata": {
        "id": "V2FH-GHs5tu7"
      },
      "outputs": [],
      "source": [
        "input1 = \"\" #@param {type:\"string\"}\n",
        "input2 = \"\" #@param {type:\"string\"}\n",
        "filename = \"\" #@param {type:\"string\"}\n",
        "!ffmpeg -hide_banner -i \"$input1\" -i \"$input2\" -c copy -map_metadata -1 -map_chapters -1 drive/MyDrive/\"$filename\".mkv"
      ]
    },
    {
      "cell_type": "markdown",
      "metadata": {
        "id": "PpLiS-CG4kmF"
      },
      "source": [
        "### *Video Splitter Tool*"
      ]
    },
    {
      "cell_type": "code",
      "execution_count": null,
      "metadata": {
        "colab": {
          "background_save": true
        },
        "id": "TmiS0PJzGEC0"
      },
      "outputs": [],
      "source": [
        "Input = \"\" #@param {type:\"string\"}\n",
        "!ffmpeg -hide_banner -y -i \"$Input\" -c copy -map_metadata -1 -map_chapters -1 -segment_time 00:01:00 -f segment \"drive/MyDrive/DriveFire/Segments/file%02d.mkv\""
      ]
    },
    {
      "cell_type": "code",
      "execution_count": null,
      "metadata": {
        "id": "3jAryDsaaXkP"
      },
      "outputs": [],
      "source": [
        "import os\n",
        "\n",
        "input_dir = \"drive/MyDrive/DriveFire/Segments\"\n",
        "ffpb = 'drive/MyDrive/ffpb.py'\n",
        "output_dir = \"drive/MyDrive\"\n",
        "\n",
        "for filename in sorted(os.listdir(input_dir)):\n",
        "    if filename.endswith(\"mkv\"):\n",
        "        input_file = os.path.join(input_dir, filename)\n",
        "        output_file = os.path.join(output_dir, filename)\n",
        "        !chmod 755 $ffpb\n",
        "        print(f\"Processing file: {filename}\")\n",
        "        !$ffpb -hide_banner -y -i $input_file -c:v libx265 -map_metadata -1 -map_chapters -1 -c:a copy $output_file\n",
        "        print(f\"File processed: {filename}\")"
      ]
    },
    {
      "cell_type": "code",
      "execution_count": null,
      "metadata": {
        "id": "P07NVrTrcfZ3"
      },
      "outputs": [],
      "source": [
        "with open(\"list.txt\", \"w\") as f:\n",
        "    for i in range(0,10):\n",
        "        f.write(f\"file drive/MyDrive/file0{i}.mkv\\n\")"
      ]
    },
    {
      "cell_type": "code",
      "execution_count": null,
      "metadata": {
        "id": "dkFNJnY8qP-M"
      },
      "outputs": [],
      "source": [
        "!printf \"file '%s'\\n\" *.mkv | sort -V > list.txt"
      ]
    },
    {
      "cell_type": "code",
      "execution_count": null,
      "metadata": {
        "id": "lEP6ZiG6HvFx"
      },
      "outputs": [],
      "source": [
        "!ffmpeg -hide_banner -y -f concat -safe 0 -i list.txt -c copy -map 0 -map_metadata -1 -map_chapters -1 f.mkv"
      ]
    },
    {
      "cell_type": "code",
      "execution_count": null,
      "metadata": {
        "colab": {
          "base_uri": "https://localhost:8080/"
        },
        "id": "xkupH9RPrgCz",
        "outputId": "9f55af4b-6848-4853-f18b-bc074072ee82"
      },
      "outputs": [
        {
          "name": "stdout",
          "output_type": "stream",
          "text": [
            "file drive/MyDrive/file00.mkv\n",
            "file drive/MyDrive/file01.mkv\n",
            "file drive/MyDrive/file02.mkv\n",
            "file drive/MyDrive/file03.mkv\n",
            "file drive/MyDrive/file04.mkv\n",
            "file drive/MyDrive/file05.mkv\n",
            "file drive/MyDrive/file06.mkv\n",
            "file drive/MyDrive/file07.mkv\n",
            "file drive/MyDrive/file08.mkv\n",
            "file drive/MyDrive/file09.mkv\n"
          ]
        }
      ],
      "source": [
        "!cat list.txt"
      ]
    },
    {
      "cell_type": "markdown",
      "metadata": {
        "id": "OnwuZiWd5CzT"
      },
      "source": [
        "### *Multi-Image Generator*"
      ]
    },
    {
      "cell_type": "code",
      "source": [
        "input_file = \"\" #@param {type:\"string\"}\n",
        "seek_time = \"\" #@param {type:\"string\"}\n",
        "num_of_frames = 10 #@param {type:\"integer\", default: 10}\n",
        "increment = 1 #@param {type:\"integer\", default: 1}\n",
        "\n",
        "import os\n",
        "import glob\n",
        "from IPython.display import Image, display, Markdown\n",
        "import datetime\n",
        "\n",
        "for filename in glob.glob('*.jpg'):\n",
        "    os.remove(filename)\n",
        "\n",
        "if ':' in seek_time:\n",
        "    seek_time_dt = datetime.datetime.strptime(seek_time, \"%H:%M:%S\")\n",
        "else:\n",
        "    seek_time_dt = datetime.datetime(1900, 1, 1) + datetime.timedelta(seconds=int(seek_time))\n",
        "\n",
        "for i in range(num_of_frames):\n",
        "    timestamp_dt = seek_time_dt + datetime.timedelta(seconds=i*increment)\n",
        "    timestamp = timestamp_dt.strftime(\"%H:%M:%S\")\n",
        "    command = f\"ffmpeg -y -loglevel error -ss {timestamp} -i \\\"{input_file}\\\" -frames:v 1 /content/{timestamp}.jpg\"\n",
        "    os.system(command)\n",
        "\n",
        "for filename in sorted(glob.glob('*.jpg'), key=lambda x: int(x[:-4].replace(':', ''))):\n",
        "    display(Image(filename))\n",
        "    display(Markdown(f\"***{filename[:-4]}***\"))\n",
        "\n",
        "for filename in glob.glob('*.jpg'):\n",
        "    os.remove(filename)"
      ],
      "metadata": {
        "cellView": "form",
        "id": "J-cw25RM2JgF"
      },
      "execution_count": null,
      "outputs": []
    },
    {
      "cell_type": "markdown",
      "metadata": {
        "id": "CEQD3XSi6LVN"
      },
      "source": [
        "### *Image Generator*"
      ]
    },
    {
      "cell_type": "code",
      "execution_count": null,
      "metadata": {
        "cellView": "form",
        "id": "ekCq078LcQJ-"
      },
      "outputs": [],
      "source": [
        "import os\n",
        "import subprocess\n",
        "\n",
        "input = \"\" #@param {type:\"string\"}\n",
        "seek_normal = \"\" #@param {type:\"string\"}\n",
        "filter = \"\" #@param {type:\"string\"}\n",
        "first_frame = False #@param {type:\"boolean\"}\n",
        "last_frame = False #@param {type:\"boolean\"}\n",
        "\n",
        "if not os.path.exists(input):\n",
        "  print(\"Error: Input file not found\")\n",
        "  exit()\n",
        "\n",
        "if first_frame:\n",
        "  !ffmpeg -loglevel error -y -i \"{input}\" -vframes 1 -q 0 first.jpg\n",
        "if last_frame:\n",
        "  duration = int(float(subprocess.check_output(f\"ffprobe -v error -show_entries format=duration -of default=noprint_wrappers=1:nokey=1 -i \\\"{input}\\\"\", shell=True).decode(\"utf-8\").strip()))\n",
        "  !ffmpeg -loglevel error -y -ss {duration} -i \"{input}\" -vframes 1 -q 0 last.jpg\n",
        "if seek_normal:\n",
        "  if filter:\n",
        "    !ffmpeg -loglevel error -y -ss {seek_normal} -i \"{input}\" -vf \"{filter}\" -vframes 1 -q 0 normal.jpg\n",
        "  else:\n",
        "    !ffmpeg -loglevel error -y -ss {seek_normal} -i \"{input}\" -vframes 1 -q 0 normal.jpg\n",
        "\n",
        "import glob\n",
        "from IPython.display import Image, display\n",
        "jpg_files = glob.glob('*.jpg')\n",
        "for file in jpg_files:\n",
        "  display(Image(file))\n",
        "!rm -rf *jpg"
      ]
    },
    {
      "cell_type": "markdown",
      "metadata": {
        "id": "bCMGvOSOK7q0"
      },
      "source": [
        "### *Trimmer*"
      ]
    },
    {
      "cell_type": "code",
      "execution_count": null,
      "metadata": {
        "id": "aK02nSVvj_bp"
      },
      "outputs": [],
      "source": [
        "input = \"\" #@param {type:\"string\"}\n",
        "output = \"\" #@param {type:\"string\"}\n",
        "start = \"\" #@param {type:\"string\"}\n",
        "end = \"\" #@param {type:\"string\"}\n",
        "re_encode = False #@param {type:\"boolean\"}\n",
        "from datetime import datetime\n",
        "\n",
        "x = datetime.strptime(start, \"%H:%M:%S\")\n",
        "y = datetime.strptime(end, \"%H:%M:%S\")\n",
        "dur = y - x\n",
        "\n",
        "if not re_encode:\n",
        "  !ffmpeg -y -loglevel error -i \"$input\" -ss \"$start\" -t \"$dur\" -avoid_negative_ts 1 -c copy \"$output\".mkv\n",
        "else:\n",
        "  !ffmpeg -y -loglevel error -ss \"$start\" -i \"$input\" -to \"$end\" -crf 0 -c:a copy \"$output\".mkv"
      ]
    },
    {
      "cell_type": "markdown",
      "metadata": {
        "id": "xD6WgB-UStks"
      },
      "source": [
        "### *MediaInfo*"
      ]
    },
    {
      "cell_type": "code",
      "execution_count": null,
      "metadata": {
        "cellView": "form",
        "id": "NvPveBEhYys3"
      },
      "outputs": [],
      "source": [
        "import subprocess\n",
        "import json\n",
        "import os\n",
        "\n",
        "input_file = \"\" #@param {type:\"string\"}\n",
        "\n",
        "if not input_file:\n",
        "    print(\"Error: No input file provided.\")\n",
        "else:\n",
        "    file_size_mb = os.path.getsize(input_file) / (1024 * 1024)\n",
        "    print(f\"File size: {file_size_mb / 1024 if file_size_mb > 1024 else file_size_mb:.2f} {'GB' if file_size_mb > 1024 else 'MB'}\")\n",
        "\n",
        "    try:\n",
        "        ffprobe_output = subprocess.check_output(f\"ffprobe -v error -show_streams -show_format -print_format json \\\"{input_file}\\\"\", shell=True).decode(\"utf-8\")\n",
        "        media_info = json.loads(ffprobe_output)\n",
        "\n",
        "        print(\"Media Information:\")\n",
        "        for stream in media_info['streams']:\n",
        "            print(f\"  {stream['codec_type'].capitalize()}:\")\n",
        "            print(f\"    Codec: {stream['codec_name']}\")\n",
        "            if stream['codec_type'] == 'video':\n",
        "                print(f\"    Resolution: {stream['width']}x{stream['height']}\")\n",
        "            elif stream['codec_type'] == 'audio':\n",
        "                print(f\"    Channels: {stream['channel_layout']}\")\n",
        "\n",
        "        duration_output = subprocess.check_output(f\"ffprobe -v error -show_entries format=duration -sexagesimal -of default=noprint_wrappers=1:nokey=1 -i \\\"{input_file}\\\"\", shell=True).decode(\"utf-8\").strip()\n",
        "        print(f\"Duration: {duration_output}\")\n",
        "\n",
        "    except subprocess.CalledProcessError:\n",
        "        print(\"Error: Unable to get media information using ffprobe.\")"
      ]
    },
    {
      "cell_type": "markdown",
      "metadata": {
        "id": "xKE9wsIUY7dr"
      },
      "source": [
        "# <img src='https://biplobsd.github.io/RLabClone/img/title_youtube-dl.png' height=\"38\"/>"
      ]
    },
    {
      "cell_type": "code",
      "execution_count": null,
      "metadata": {
        "cellView": "form",
        "colab": {
          "base_uri": "https://localhost:8080/"
        },
        "id": "Ds7MuNL3VdZ3",
        "outputId": "95cc7839-f35c-4c25-fd25-a1bce214e47d"
      },
      "outputs": [
        {
          "output_type": "stream",
          "name": "stdout",
          "text": [
            "\u001b[K"
          ]
        }
      ],
      "source": [
        "YTDL=!(command -v \"yt-dlp\")\n",
        "if not YTDL:\n",
        "  !curl -s -L https://github.com/yt-dlp/yt-dlp/releases/latest/download/yt-dlp -o /usr/local/bin/yt-dlp\n",
        "  !chmod a+rx /usr/local/bin/yt-dlp\n",
        "URL = \"\" #@param {type:\"string\"}\n",
        "quality = '0' #@param [\"bv[ext=mp4]+ba[ext=m4a]\",\"0\"] {allow-input: true}\n",
        "output = \"%(title)s.%(ext)s\" #@param [\"%(title)s.%(ext)s\"] {allow-input: true}\n",
        "!yt-dlp --no-warnings -q --progress -f {quality} -o \"$output\" \"$URL\""
      ]
    },
    {
      "cell_type": "markdown",
      "metadata": {
        "id": "QoCSX08PW8xY"
      },
      "source": [
        "# <font size=5> ✦ *Colab Still Alive*"
      ]
    },
    {
      "cell_type": "code",
      "execution_count": null,
      "metadata": {
        "id": "GsNc8I5FXfio"
      },
      "outputs": [],
      "source": [
        "some_str = ' ' * 5120000000000"
      ]
    },
    {
      "cell_type": "code",
      "execution_count": null,
      "metadata": {
        "id": "-bqlK1H_D-Kp"
      },
      "outputs": [],
      "source": [
        "from google.colab import runtime\n",
        "runtime.unassign()"
      ]
    },
    {
      "cell_type": "code",
      "execution_count": null,
      "metadata": {
        "id": "bgmwVQPiXGmz"
      },
      "outputs": [],
      "source": [
        "import IPython\n",
        "from IPython.display import clear_output\n",
        "from google.colab import output\n",
        "\n",
        "display(IPython.display.Javascript('''\n",
        " function ClickConnect(){\n",
        "   btn = document.querySelector(\"colab-connect-button\")\n",
        "   if (btn != null){\n",
        "     console.log(\"Clicked on the connect button\");\n",
        "     btn.click()\n",
        "     }\n",
        "\n",
        "   btn = document.getElementById('connect')\n",
        "   if (btn != null){\n",
        "     console.log(\"Clicked on the reconnect button\");\n",
        "     btn.click()\n",
        "     }\n",
        "  }\n",
        "\n",
        "setInterval(ClickConnect,60000)\n",
        "'''))\n",
        "\n",
        "clear_output()"
      ]
    },
    {
      "cell_type": "markdown",
      "metadata": {
        "id": "EzrcrV9T3mGe"
      },
      "source": [
        "# <font size=6> Scratchpad"
      ]
    },
    {
      "cell_type": "code",
      "execution_count": null,
      "metadata": {
        "id": "gQvweStDoo9w"
      },
      "outputs": [],
      "source": [
        "#@markdown <font size=4>***Demucs***\n",
        "from IPython.display import clear_output\n",
        "input = \"\" #@param{type:\"string\"}\n",
        "DEMUCS=!(command -v \"demucs\")\n",
        "if not DEMUCS:\n",
        "  !python3 -m pip install -U demucs\n",
        "  clear_output()\n",
        "!demucs \"$input\""
      ]
    },
    {
      "cell_type": "code",
      "execution_count": null,
      "metadata": {
        "id": "sV5mrnRiERlM"
      },
      "outputs": [],
      "source": [
        "#@markdown <font size=4>***Auto Sub***\n",
        "\n",
        "input_file = \"\" #@param {type:\"string\"}\n",
        "output_file = \"\" #@param {type:\"string\"}\n",
        "device = \"cuda\" #@param [\"cuda\",\"cpu\"]\n",
        "compute_type = \"float16\" #@param [\"float16\",\"int8\"]\n",
        "\n",
        "from IPython.display import clear_output\n",
        "!pip install faster-whisper\n",
        "clear_output()\n",
        "\n",
        "from faster_whisper import WhisperModel\n",
        "\n",
        "model_size = \"large-v2\"\n",
        "model = WhisperModel(model_size, device, compute_type=compute_type)\n",
        "\n",
        "segments, _ = model.transcribe(input_file, beam_size=50, language=\"ko\", task=\"translate\", word_timestamps=True, vad_filter=True)\n",
        "\n",
        "with open(output_file, \"w\") as f:\n",
        "    for i, segment in enumerate(segments):\n",
        "        print(f\"Transcribing segment {i+1}/{len(segments)}\")\n",
        "        for word in segment.words:\n",
        "            f.write(\"[%.2fs -> %.2fs] %s\\n\" % (word.start, word.end, word.word))"
      ]
    },
    {
      "cell_type": "code",
      "execution_count": null,
      "metadata": {
        "id": "vBk_x8z7P1Q6"
      },
      "outputs": [],
      "source": [
        "#@markdown <font size=4>***Google Translator***\n",
        "!pip install googletrans\n",
        "import googletrans\n",
        "from googletrans import Translator  # Import the Translator class from the googletrans library\n",
        "\n",
        "file = \"\" #@param {type:\"string\"}\n",
        "translator = Translator()  # Create a Translator object\n",
        "with open(file, 'r') as f:  # Open the file in read mode\n",
        "    text = f.read()  # Read the contents of the file\n",
        "translated = translator.translate(text, src='ko', dest='en')  # Translate the text\n",
        "print(translated.text)  # Print the translated text"
      ]
    },
    {
      "cell_type": "code",
      "execution_count": null,
      "metadata": {
        "colab": {
          "base_uri": "https://localhost:8080/",
          "height": 17
        },
        "id": "-w8vDyAAXkwk",
        "outputId": "39dc7fe6-e054-4272-8382-8d1df88590c9"
      },
      "outputs": [
        {
          "data": {
            "application/javascript": [
              "\n",
              "    async function download(id, filename, size) {\n",
              "      if (!google.colab.kernel.accessAllowed) {\n",
              "        return;\n",
              "      }\n",
              "      const div = document.createElement('div');\n",
              "      const label = document.createElement('label');\n",
              "      label.textContent = `Downloading \"${filename}\": `;\n",
              "      div.appendChild(label);\n",
              "      const progress = document.createElement('progress');\n",
              "      progress.max = size;\n",
              "      div.appendChild(progress);\n",
              "      document.body.appendChild(div);\n",
              "\n",
              "      const buffers = [];\n",
              "      let downloaded = 0;\n",
              "\n",
              "      const channel = await google.colab.kernel.comms.open(id);\n",
              "      // Send a message to notify the kernel that we're ready.\n",
              "      channel.send({})\n",
              "\n",
              "      for await (const message of channel.messages) {\n",
              "        // Send a message to notify the kernel that we're ready.\n",
              "        channel.send({})\n",
              "        if (message.buffers) {\n",
              "          for (const buffer of message.buffers) {\n",
              "            buffers.push(buffer);\n",
              "            downloaded += buffer.byteLength;\n",
              "            progress.value = downloaded;\n",
              "          }\n",
              "        }\n",
              "      }\n",
              "      const blob = new Blob(buffers, {type: 'application/binary'});\n",
              "      const a = document.createElement('a');\n",
              "      a.href = window.URL.createObjectURL(blob);\n",
              "      a.download = filename;\n",
              "      div.appendChild(a);\n",
              "      a.click();\n",
              "      div.remove();\n",
              "    }\n",
              "  "
            ],
            "text/plain": [
              "<IPython.core.display.Javascript object>"
            ]
          },
          "metadata": {},
          "output_type": "display_data"
        },
        {
          "data": {
            "application/javascript": [
              "download(\"download_df7b0ec3-581c-4c01-a245-74db068f725a\", \"1.mp4\", 23482060)"
            ],
            "text/plain": [
              "<IPython.core.display.Javascript object>"
            ]
          },
          "metadata": {},
          "output_type": "display_data"
        }
      ],
      "source": [
        "file= \"\" #@param{type:\"string\"}\n",
        "from google.colab import files\n",
        "files.download(file)"
      ]
    }
  ],
  "metadata": {
    "colab": {
      "collapsed_sections": [
        "-2RPeA23KGmq",
        "C1lr3oxGYW2l",
        "cboxh1bcpX_l",
        "Yvnygfq563qQ",
        "PpLiS-CG4kmF",
        "OnwuZiWd5CzT",
        "CEQD3XSi6LVN",
        "bCMGvOSOK7q0",
        "xD6WgB-UStks",
        "xKE9wsIUY7dr",
        "QoCSX08PW8xY",
        "EzrcrV9T3mGe"
      ],
      "provenance": [],
      "mount_file_id": "15g-8YCUlrmjxO0D55N88MFtpgKGVL_MV",
      "authorship_tag": "ABX9TyOpA4uNYLu0AnI/ZVhBFrhI",
      "include_colab_link": true
    },
    "kernelspec": {
      "display_name": "Python 3",
      "name": "python3"
    },
    "language_info": {
      "name": "python"
    }
  },
  "nbformat": 4,
  "nbformat_minor": 0
}