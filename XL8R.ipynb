{
  "cells": [
    {
      "cell_type": "markdown",
      "metadata": {
        "id": "view-in-github",
        "colab_type": "text"
      },
      "source": [
        "<a href=\"https://colab.research.google.com/github/Private-Detective/CloudStream/blob/main/XL8R.ipynb\" target=\"_parent\"><img src=\"https://colab.research.google.com/assets/colab-badge.svg\" alt=\"Open In Colab\"/></a>"
      ]
    },
    {
      "cell_type": "markdown",
      "metadata": {
        "id": "KkLiGXcaq9rG"
      },
      "source": [
        "# <img src='https://www.libtorrent.org/img/logo-color-text.png' height='38'/>"
      ]
    },
    {
      "cell_type": "code",
      "execution_count": null,
      "metadata": {
        "cellView": "form",
        "id": "Pmz9rEvehrkl"
      },
      "outputs": [],
      "source": [
        "from IPython.display import clear_output\n",
        "!pip install libtorrent\n",
        "clear_output()\n",
        "import libtorrent as lt\n",
        "import time\n",
        "import os\n",
        "import sys\n",
        "\n",
        "save_path = os.path.join(os.getcwd(), 'drive/MyDrive/Torrents')\n",
        "magnet_link = \"\" #@param {type:\"string\"}\n",
        "\n",
        "ses = lt.session()\n",
        "\n",
        "try:\n",
        "    params = lt.parse_magnet_uri(magnet_link)\n",
        "    params.save_path = save_path\n",
        "    handle = ses.add_torrent(params)\n",
        "\n",
        "    start_time = time.time()\n",
        "\n",
        "    while not handle.status().is_seeding:\n",
        "        elapsed_time = time.time() - start_time\n",
        "        if handle.status().total_wanted_done > 0:\n",
        "            remaining_time = (handle.status().total_wanted - handle.status().total_wanted_done) / (handle.status().total_wanted_done / elapsed_time)\n",
        "            remaining_time_str = time.strftime(\"%H:%M:%S\", time.gmtime(remaining_time))\n",
        "        else:\n",
        "            remaining_time_str = \"Unknown\"\n",
        "\n",
        "        print(f\"\\r{handle.status().name[:15]}.. : {handle.status().total_wanted_done / (1024 * 1024):.2f}MB [{elapsed_time:.0f} seconds, {(handle.status().total_wanted_done / elapsed_time) / (1024 * 1024):.2f}MB/s] Remaining time: {remaining_time_str}\", end=' ')\n",
        "        sys.stdout.flush()\n",
        "\n",
        "        time.sleep(1)\n",
        "\n",
        "    if handle.status().is_seeding:\n",
        "        print(\"\\nTorrent Download Completed!\")\n",
        "\n",
        "except Exception as e:\n",
        "    print(f\"Error: {e}\")"
      ]
    },
    {
      "cell_type": "markdown",
      "metadata": {
        "id": "-2RPeA23KGmq"
      },
      "source": [
        "# <img src='https://storage.googleapis.com/pr-newsroom-wp/1/2018/11/Spotify_Logo_RGB_Green.png' height=\"39\"/>"
      ]
    },
    {
      "cell_type": "code",
      "execution_count": null,
      "metadata": {
        "cellView": "form",
        "id": "Z9KUjpzxruZp"
      },
      "outputs": [],
      "source": [
        "\n",
        "from IPython.display import clear_output\n",
        "\n",
        "# Check if spotdl is installed\n",
        "SPOTDL = !(command -v \"spotdl\")\n",
        "if not SPOTDL:\n",
        "    !pip install spotdl\n",
        "    clear_output()\n",
        "\n",
        "# Add search query option\n",
        "search_query = \"\"  # @param {type:\"string\"}\n",
        "link = \"\"  # @param {type:\"string\"}\n",
        "output = \"/content/{title} - {artists}\"  # kept the original output format\n",
        "\n",
        "options = [\n",
        "    \"--format mp3\",\n",
        "    \"--bitrate 128k\",  # 128k as default bitrate\n",
        "    \"--lyrics musixmatch\",  # Musixmatch as default lyrics provider\n",
        "    \"--sponsor-block\",\n",
        "    \"--generate-lrc\",\n",
        "    \"--print-errors\",\n",
        "    f\"--output \\\"{output}\\\"\"\n",
        "]\n",
        "\n",
        "# Add link to spotdl command if provided\n",
        "if link:\n",
        "    !spotdl download {link} {\" \".join(options)}\n",
        "else:\n",
        "    !spotdl download \"{search_query}\" {\" \".join(options)}\n",
        "\n",
        "try:\n",
        "    # No need for eval or exec, just execute the command directly\n",
        "    pass\n",
        "except FileNotFoundError:\n",
        "    print(f\"Error: spotdl command not found. Please install spotdl.\")\n",
        "except Exception as e:\n",
        "    print(f\"Error: {e}\")\n",
        "\n",
        "# Add a success message\n",
        "print(\"Download complete!\")"
      ]
    },
    {
      "cell_type": "markdown",
      "metadata": {
        "id": "C1lr3oxGYW2l"
      },
      "source": [
        "# <img src='https://upload.wikimedia.org/wikipedia/commons/5/5f/FFmpeg_Logo_new.svg' height=\"34\"/>"
      ]
    },
    {
      "cell_type": "markdown",
      "metadata": {
        "id": "cboxh1bcpX_l"
      },
      "source": [
        "### *Encoder*"
      ]
    },
    {
      "cell_type": "code",
      "execution_count": null,
      "metadata": {
        "cellView": "form",
        "id": "G1T-bd_LTF6o"
      },
      "outputs": [],
      "source": [
        "#@title <h4> *Normal Encoder*\n",
        "\n",
        "import subprocess\n",
        "\n",
        "input_file = \"\" #@param {type:\"string\"}\n",
        "output_file = \"\" #@param {type:\"string\"}\n",
        "arguments = \"\" #@param {type:\"string\"}\n",
        "\n",
        "while True:\n",
        "    command = f\"ffmpeg -i {input_file} {arguments} {output_file}\"\n",
        "    process = subprocess.Popen(command, shell=True)\n",
        "    process.wait()\n",
        "    if process.returncode == 0:\n",
        "        print(\"FFmpeg command executed successfully!\")\n",
        "        break\n",
        "    else:\n",
        "        print(\"FFmpeg command failed. Retrying...\")"
      ]
    },
    {
      "cell_type": "code",
      "execution_count": null,
      "metadata": {
        "id": "XLQ-QDTjWqi-",
        "cellView": "form"
      },
      "outputs": [],
      "source": [
        "#@title <h4> *Split & Encode*\n",
        "import subprocess\n",
        "\n",
        "input_file = \"\" #@param {type:\"string\"}\n",
        "\n",
        "width = subprocess.check_output(['ffprobe', '-v', 'error', '-select_streams', 'v:0', '-show_entries', 'stream=width', '-of', 'csv=p=0', input_file]).decode('utf-8').strip()\n",
        "height = subprocess.check_output(['ffprobe', '-v', 'error', '-select_streams', 'v:0', '-show_entries', 'stream=height', '-of', 'csv=p=0', input_file]).decode('utf-8').strip()\n",
        "\n",
        "print(\"Processing video...\")\n",
        "\n",
        "if int(width) == 1280 and int(height) < 600:\n",
        "    size = \"-s 1280:538\"\n",
        "elif int(width) == 960 and int(height) < 500:\n",
        "    size = \"-s 960:458\"\n",
        "elif int(width) == 854 and int(height) < 400:\n",
        "    size = \"-s 854:356\"\n",
        "else:\n",
        "    size = \"\"\n",
        "\n",
        "segment_time = 600  # 10 minutes in seconds\n",
        "segment_number = 1\n",
        "\n",
        "while True:\n",
        "    output_file = f\"file{segment_number:02d}.mkv\"\n",
        "    cmd = f\"ffmpeg -i {input_file} -c:v libx265 {size} -c:a copy -c:s copy -segment_time {segment_time} {output_file}\"\n",
        "    print(f\"Processing: {output_file}\")\n",
        "    subprocess.run(cmd, shell=True)\n",
        "    segment_number += 1"
      ]
    },
    {
      "cell_type": "markdown",
      "metadata": {
        "id": "Yvnygfq563qQ"
      },
      "source": [
        "### *Subtitle Encoder*"
      ]
    },
    {
      "cell_type": "code",
      "execution_count": null,
      "metadata": {
        "cellView": "form",
        "id": "V2FH-GHs5tu7"
      },
      "outputs": [],
      "source": [
        "input1 = \"\" #@param {type:\"string\"}\n",
        "input2 = \"\" #@param {type:\"string\"}\n",
        "filename = \"\" #@param {type:\"string\"}\n",
        "!ffmpeg -loglevel error -i \"$input1\" -i \"$input2\" -c copy -map_metadata -1 -map_chapters -1 drive/MyDrive/\"$filename\".mkv"
      ]
    },
    {
      "cell_type": "markdown",
      "metadata": {
        "id": "PpLiS-CG4kmF"
      },
      "source": [
        "### *Video Splitter Tool*"
      ]
    },
    {
      "cell_type": "code",
      "execution_count": null,
      "metadata": {
        "cellView": "form",
        "id": "TmiS0PJzGEC0"
      },
      "outputs": [],
      "source": [
        "input_file = \"\" #@param {type:\"string\"}\n",
        "segment_time = \"00:15:00\" #@param {type:\"string\"}\n",
        "output_dir = \"drive/MyDrive/DriveFire/Segments\"\n",
        "\n",
        "import os\n",
        "import subprocess\n",
        "\n",
        "if os.path.isfile(input_file):\n",
        "    os.makedirs(output_dir, exist_ok=True)\n",
        "    try:\n",
        "        subprocess.run([\n",
        "            \"ffmpeg\", \"-y\", \"-i\", input_file,\n",
        "            \"-segment_time\", segment_time,\n",
        "            \"-f\", \"segment\", \"-c\", \"copy\",\n",
        "            \"-map_chapters\", \"-1\", \"-map_metadata\", \"-1\",\n",
        "            f\"{output_dir}/file%02d.mkv\"\n",
        "        ], check=True)\n",
        "        print(f\"Output directory contents:\")\n",
        "        !ls {output_dir}\n",
        "    except subprocess.CalledProcessError as e:\n",
        "        print(f\"FFmpeg command failed with return code {e.returncode}.\")\n",
        "    except Exception as e:\n",
        "        print(f\"An error occurred: {e}\")\n",
        "else:\n",
        "    print(\"Input file does not exist.\")"
      ]
    },
    {
      "cell_type": "code",
      "execution_count": null,
      "metadata": {
        "id": "dkFNJnY8qP-M"
      },
      "outputs": [],
      "source": [
        "!printf \"file '%s'\\n\" drive/MyDrive/DriveFire/Vid/*.mkv | sort -V > list.txt"
      ]
    },
    {
      "cell_type": "code",
      "execution_count": null,
      "metadata": {
        "id": "lEP6ZiG6HvFx"
      },
      "outputs": [],
      "source": [
        "!ffmpeg -hide_banner -y -f concat -safe 0 -i list.txt -c copy -map 0 -map_metadata -1 -map_chapters -1 \"drive/MyDrive/Top Gun Maverick (2022).mkv\""
      ]
    },
    {
      "cell_type": "code",
      "execution_count": null,
      "metadata": {
        "id": "xkupH9RPrgCz"
      },
      "outputs": [],
      "source": [
        "!cat list.txt"
      ]
    },
    {
      "cell_type": "markdown",
      "metadata": {
        "id": "OnwuZiWd5CzT"
      },
      "source": [
        "### *Multi-Image Generator*"
      ]
    },
    {
      "cell_type": "code",
      "execution_count": null,
      "metadata": {
        "cellView": "form",
        "id": "J-cw25RM2JgF"
      },
      "outputs": [],
      "source": [
        "input_file = \"\" #@param {type:\"string\"}\n",
        "seek_time = \"\" #@param {type:\"string\"}\n",
        "num_of_frames = 10 #@param {type:\"integer\", default: 10}\n",
        "increment = 1 #@param {type:\"integer\", default: 1}\n",
        "\n",
        "import os\n",
        "import glob\n",
        "from IPython.display import Image, display, Markdown\n",
        "import datetime\n",
        "\n",
        "for filename in glob.glob('*.jpg'):\n",
        "    os.remove(filename)\n",
        "\n",
        "if ':' in seek_time:\n",
        "    seek_time_dt = datetime.datetime.strptime(seek_time, \"%H:%M:%S\")\n",
        "else:\n",
        "    seek_time_dt = datetime.datetime(1900, 1, 1) + datetime.timedelta(seconds=int(seek_time))\n",
        "\n",
        "for i in range(num_of_frames):\n",
        "    timestamp_dt = seek_time_dt + datetime.timedelta(seconds=i*increment)\n",
        "    timestamp = timestamp_dt.strftime(\"%H:%M:%S\")\n",
        "    command = f\"ffmpeg -y -loglevel error -ss {timestamp} -i \\\"{input_file}\\\" -frames:v 1 /content/{timestamp}.jpg\"\n",
        "    os.system(command)\n",
        "\n",
        "for filename in sorted(glob.glob('*.jpg'), key=lambda x: int(x[:-4].replace(':', ''))):\n",
        "    display(Image(filename))\n",
        "    display(Markdown(f\"***{filename[:-4]}***\"))\n",
        "\n",
        "for filename in glob.glob('*.jpg'):\n",
        "    os.remove(filename)"
      ]
    },
    {
      "cell_type": "markdown",
      "metadata": {
        "id": "CEQD3XSi6LVN"
      },
      "source": [
        "### *Image Generator*"
      ]
    },
    {
      "cell_type": "code",
      "source": [
        "import os\n",
        "import subprocess\n",
        "from IPython.display import Image, display, Markdown\n",
        "\n",
        "input_file = \"\" #@param {type:\"string\"}\n",
        "seek_normal = \"\" #@param {type:\"string\"}\n",
        "filter = \"\" #@param {type:\"string\"}\n",
        "first_frame = False #@param {type:\"boolean\"}\n",
        "last_frame = False #@param {type:\"boolean\"}\n",
        "\n",
        "def extract_frame(input_file, output_file, ss, filter=\"\"):\n",
        "    try:\n",
        "        if filter:\n",
        "            !ffmpeg -loglevel error -y -ss {ss} -i \"{input_file}\" -vf \"{filter}\" -vframes 1 -q 0 {output_file}\n",
        "        else:\n",
        "            !ffmpeg -loglevel error -y -ss {ss} -i \"{input_file}\" -vframes 1 -q 0 {output_file}\n",
        "    except:\n",
        "        pass\n",
        "\n",
        "def get_duration(input_file):\n",
        "    try:\n",
        "        return int(float(subprocess.check_output(f\"ffprobe -v error -show_entries format=duration -of default=noprint_wrappers=1:nokey=1 -i \\\"{input_file}\\\"\", shell=True).decode(\"utf-8\").strip()))\n",
        "    except:\n",
        "        return 0\n",
        "\n",
        "def format_time(time_str):\n",
        "    h, m, s = map(int, time_str.split(':'))\n",
        "    return f\"{h:02d}:{m:02d}:{s:02d}\"\n",
        "\n",
        "def get_seconds(time_str):\n",
        "    h, m, s = map(int, time_str.split(':'))\n",
        "    return h * 3600 + m * 60 + s\n",
        "\n",
        "if os.path.exists(input_file):\n",
        "    if first_frame:\n",
        "        extract_frame(input_file, \"first.jpg\", 0)\n",
        "        if os.path.exists(\"first.jpg\"):\n",
        "            with open(\"first.jpg\", \"rb\") as f:\n",
        "                image_data = f.read()\n",
        "            display(Image(data=image_data, format=\"jpg\"))\n",
        "            display(Markdown(\"***00:00:00*** &nbsp;-&nbsp; *First Frame*\"))\n",
        "\n",
        "    if last_frame:\n",
        "        duration = get_duration(input_file)\n",
        "        timestamp = duration - 1\n",
        "        while True:\n",
        "            try:\n",
        "                extract_frame(input_file, \"last.jpg\", timestamp)\n",
        "                break\n",
        "            except:\n",
        "                timestamp -= 1\n",
        "                if timestamp < 0:\n",
        "                    break\n",
        "        if os.path.exists(\"last.jpg\"):\n",
        "            timestamp_str = format_time(f\"{timestamp//3600:02d}:{(timestamp%3600)//60:02d}:{timestamp%60:02d}\")\n",
        "            with open(\"last.jpg\", \"rb\") as f:\n",
        "                image_data = f.read()\n",
        "            display(Image(data=image_data, format=\"jpg\"))\n",
        "            display(Markdown(f\"***{timestamp_str}*** &nbsp;-&nbsp; *Last Frame*\"))\n",
        "\n",
        "    if seek_normal:\n",
        "        seconds = get_seconds(seek_normal)\n",
        "        extract_frame(input_file, \"normal.jpg\", seconds, filter)\n",
        "        timestamp = format_time(seek_normal)\n",
        "        if os.path.exists(\"normal.jpg\"):\n",
        "            with open(\"normal.jpg\", \"rb\") as f:\n",
        "                image_data = f.read()\n",
        "            display(Image(data=image_data, format=\"jpg\"))\n",
        "            display(Markdown(f\"***{timestamp}*** &nbsp;-&nbsp; *Normal Frame*\"))\n",
        "        else:\n",
        "            display(Markdown(f\"***{timestamp}*** &nbsp;-&nbsp; *Normal Frame is not found*\"))\n",
        "\n",
        "!rm -rf *.jpg"
      ],
      "metadata": {
        "cellView": "form",
        "id": "kRkouorP-FQf"
      },
      "execution_count": null,
      "outputs": []
    },
    {
      "cell_type": "markdown",
      "metadata": {
        "id": "bCMGvOSOK7q0"
      },
      "source": [
        "### *Trimmer*"
      ]
    },
    {
      "cell_type": "code",
      "execution_count": 25,
      "metadata": {
        "cellView": "form",
        "id": "t84IbYis7i09"
      },
      "outputs": [],
      "source": [
        "input = \"\" #@param {type:\"string\"}\n",
        "output = \"\" #@param {type:\"string\"}\n",
        "start = \"\" #@param {type:\"string\"}\n",
        "end = \"\" #@param {type:\"string\"}\n",
        "re_encode = False #@param {type:\"boolean\"}\n",
        "\n",
        "if start:\n",
        "    start_str = \"-ss \" + str(int(start)) if start.isdigit() else \"-ss \" + start\n",
        "else:\n",
        "    start_str = \"\"\n",
        "\n",
        "if end:\n",
        "    if not re_encode:\n",
        "        end_str = \"-t \" + str(int(end)) if end.isdigit() else \"-t \" + end\n",
        "    else:\n",
        "        end_str = \"-to \" + str(int(end)) if end.isdigit() else \"-to \" + end\n",
        "else:\n",
        "    end_str = \"\"\n",
        "\n",
        "if not re_encode:\n",
        "    !ffmpeg -y -loglevel error -i \"$input\" {start_str} {dur} -avoid_negative_ts 1 -c copy \"$output\".mkv\n",
        "else:\n",
        "    !ffmpeg -y -loglevel error -i \"$input\" {start_str} {end_str} -crf 0 -c:a copy \"$output\".mkv"
      ]
    },
    {
      "cell_type": "markdown",
      "metadata": {
        "id": "xD6WgB-UStks"
      },
      "source": [
        "### *MediaInfo*"
      ]
    },
    {
      "cell_type": "code",
      "execution_count": null,
      "metadata": {
        "cellView": "form",
        "id": "NvPveBEhYys3"
      },
      "outputs": [],
      "source": [
        "import subprocess\n",
        "import json\n",
        "import os\n",
        "\n",
        "input_file = \"\" #@param {type:\"string\"}\n",
        "\n",
        "if not input_file:\n",
        "    print(\"Error: No input file provided.\")\n",
        "else:\n",
        "    if not os.path.exists(input_file):\n",
        "        print(\"Error: Input file does not exist.\")\n",
        "    else:\n",
        "        file_size_mb = os.path.getsize(input_file) / (1024 * 1024)\n",
        "        print(f\"File size: {file_size_mb / 1024 if file_size_mb > 1024 else file_size_mb:.2f} {'GB' if file_size_mb > 1024 else 'MB'}\")\n",
        "\n",
        "        try:\n",
        "            ffprobe_output = subprocess.check_output(f\"ffprobe -v error -show_streams -show_format -print_format json \\\"{input_file}\\\"\", shell=True).decode(\"utf-8\")\n",
        "            media_info = json.loads(ffprobe_output)\n",
        "\n",
        "            print(\"Media Information:\")\n",
        "            for stream in media_info['streams']:\n",
        "                print(f\"  {stream['codec_type'].capitalize()}:\")\n",
        "                print(f\"    Codec: {stream['codec_name']}\")\n",
        "                if stream['codec_type'] == 'video':\n",
        "                    print(f\"    Resolution: {stream['width']}x{stream['height']}\")\n",
        "                elif stream['codec_type'] == 'audio':\n",
        "                    print(f\"    Channels: {stream['channel_layout']}\")\n",
        "\n",
        "            duration_output = subprocess.check_output(f\"ffprobe -v error -show_entries format=duration -sexagesimal -of default=noprint_wrappers=1:nokey=1 -i \\\"{input_file}\\\"\", shell=True).decode(\"utf-8\").strip()\n",
        "            print(f\"Duration: {duration_output}\")\n",
        "\n",
        "        except subprocess.CalledProcessError:\n",
        "            print(\"Error: Unable to get media information using ffprobe.\")"
      ]
    },
    {
      "cell_type": "markdown",
      "metadata": {
        "id": "xKE9wsIUY7dr"
      },
      "source": [
        "# <img src='https://biplobsd.github.io/RLabClone/img/title_youtube-dl.png' height=\"38\"/>"
      ]
    },
    {
      "cell_type": "code",
      "execution_count": null,
      "metadata": {
        "cellView": "form",
        "colab": {
          "background_save": true,
          "base_uri": "https://localhost:8080/"
        },
        "id": "Ds7MuNL3VdZ3",
        "outputId": "b781ef80-d08a-4a64-dc6b-50c247241a84"
      },
      "outputs": [
        {
          "name": "stdout",
          "output_type": "stream",
          "text": [
            "\u001b[K"
          ]
        }
      ],
      "source": [
        "YTDL=!(command -v \"yt-dlp\")\n",
        "if not YTDL:\n",
        "  !curl -s -L https://github.com/yt-dlp/yt-dlp/releases/latest/download/yt-dlp -o /usr/local/bin/yt-dlp\n",
        "  !chmod a+rx /usr/local/bin/yt-dlp\n",
        "URL = \"\" #@param {type:\"string\"}\n",
        "quality = '0' #@param [\"bv[ext=mp4]+ba[ext=m4a]\",\"0\"] {allow-input: true}\n",
        "output = \"%(title)s.%(ext)s\" #@param [\"%(title)s.%(ext)s\"] {allow-input: true}\n",
        "!yt-dlp --no-warnings -q --progress -f {quality} -o \"$output\" \"$URL\""
      ]
    },
    {
      "cell_type": "markdown",
      "metadata": {
        "id": "QoCSX08PW8xY"
      },
      "source": [
        "# <font size=5> ✦ *Colab Still Alive*"
      ]
    },
    {
      "cell_type": "code",
      "execution_count": null,
      "metadata": {
        "id": "GsNc8I5FXfio"
      },
      "outputs": [],
      "source": [
        "some_str = ' ' * 5120000000000"
      ]
    },
    {
      "cell_type": "code",
      "execution_count": null,
      "metadata": {
        "id": "-bqlK1H_D-Kp"
      },
      "outputs": [],
      "source": [
        "from google.colab import runtime\n",
        "runtime.unassign()"
      ]
    },
    {
      "cell_type": "code",
      "execution_count": null,
      "metadata": {
        "id": "bgmwVQPiXGmz"
      },
      "outputs": [],
      "source": [
        "import IPython\n",
        "from IPython.display import clear_output\n",
        "from google.colab import output\n",
        "\n",
        "display(IPython.display.Javascript('''\n",
        " function ClickConnect(){\n",
        "   btn = document.querySelector(\"colab-connect-button\")\n",
        "   if (btn != null){\n",
        "     console.log(\"Clicked on the connect button\");\n",
        "     btn.click()\n",
        "     }\n",
        "\n",
        "   btn = document.getElementById('connect')\n",
        "   if (btn != null){\n",
        "     console.log(\"Clicked on the reconnect button\");\n",
        "     btn.click()\n",
        "     }\n",
        "  }\n",
        "\n",
        "setInterval(ClickConnect,60000)\n",
        "'''))\n",
        "\n",
        "clear_output()"
      ]
    },
    {
      "cell_type": "markdown",
      "metadata": {
        "id": "EzrcrV9T3mGe"
      },
      "source": [
        "# <font size=6> Scratchpad"
      ]
    },
    {
      "cell_type": "code",
      "execution_count": null,
      "metadata": {
        "id": "gQvweStDoo9w",
        "cellView": "form"
      },
      "outputs": [],
      "source": [
        "#@markdown <font size=4>***Demucs***\n",
        "from IPython.display import clear_output\n",
        "input = \"\" #@param{type:\"string\"}\n",
        "DEMUCS=!(command -v \"demucs\")\n",
        "if not DEMUCS:\n",
        "  !python3 -m pip install -U demucs\n",
        "  clear_output()\n",
        "!demucs \"$input\""
      ]
    },
    {
      "cell_type": "code",
      "execution_count": null,
      "metadata": {
        "id": "sV5mrnRiERlM",
        "cellView": "form"
      },
      "outputs": [],
      "source": [
        "#@markdown <font size=4>***Auto Sub***\n",
        "\n",
        "input_file = \"\" #@param {type:\"string\"}\n",
        "output_file = \"\" #@param {type:\"string\"}\n",
        "device = \"cuda\" #@param [\"cuda\",\"cpu\"]\n",
        "compute_type = \"float16\" #@param [\"float16\",\"int8\"]\n",
        "\n",
        "from IPython.display import clear_output\n",
        "!pip install faster-whisper\n",
        "clear_output()\n",
        "\n",
        "from faster_whisper import WhisperModel\n",
        "\n",
        "model_size = \"large-v2\"\n",
        "model = WhisperModel(model_size, device, compute_type=compute_type)\n",
        "\n",
        "segments, _ = model.transcribe(input_file, beam_size=50, language=\"ko\", task=\"translate\", word_timestamps=True, vad_filter=True)\n",
        "\n",
        "with open(output_file, \"w\") as f:\n",
        "    for i, segment in enumerate(segments):\n",
        "        print(f\"Transcribing segment {i+1}/{len(segments)}\")\n",
        "        for word in segment.words:\n",
        "            f.write(\"[%.2fs -> %.2fs] %s\\n\" % (word.start, word.end, word.word))"
      ]
    },
    {
      "cell_type": "code",
      "execution_count": null,
      "metadata": {
        "id": "vBk_x8z7P1Q6",
        "cellView": "form"
      },
      "outputs": [],
      "source": [
        "#@markdown <font size=4>***Google Translator***\n",
        "!pip install googletrans\n",
        "import googletrans\n",
        "from googletrans import Translator  # Import the Translator class from the googletrans library\n",
        "\n",
        "file = \"\" #@param {type:\"string\"}\n",
        "translator = Translator()  # Create a Translator object\n",
        "with open(file, 'r') as f:  # Open the file in read mode\n",
        "    text = f.read()  # Read the contents of the file\n",
        "translated = translator.translate(text, src='ko', dest='en')  # Translate the text\n",
        "print(translated.text)  # Print the translated text"
      ]
    },
    {
      "cell_type": "code",
      "execution_count": null,
      "metadata": {
        "id": "-w8vDyAAXkwk"
      },
      "outputs": [],
      "source": [
        "file= \"\" #@param{type:\"string\"}\n",
        "from google.colab import files\n",
        "files.download(file)"
      ]
    }
  ],
  "metadata": {
    "colab": {
      "collapsed_sections": [
        "KkLiGXcaq9rG",
        "-2RPeA23KGmq",
        "C1lr3oxGYW2l",
        "cboxh1bcpX_l",
        "Yvnygfq563qQ",
        "PpLiS-CG4kmF",
        "OnwuZiWd5CzT",
        "CEQD3XSi6LVN",
        "bCMGvOSOK7q0",
        "xD6WgB-UStks",
        "xKE9wsIUY7dr",
        "QoCSX08PW8xY",
        "EzrcrV9T3mGe"
      ],
      "provenance": [],
      "mount_file_id": "15g-8YCUlrmjxO0D55N88MFtpgKGVL_MV",
      "authorship_tag": "ABX9TyPBCOe8x54kE2cwj/dgh2gi",
      "include_colab_link": true
    },
    "kernelspec": {
      "display_name": "Python 3",
      "name": "python3"
    },
    "language_info": {
      "name": "python"
    }
  },
  "nbformat": 4,
  "nbformat_minor": 0
}